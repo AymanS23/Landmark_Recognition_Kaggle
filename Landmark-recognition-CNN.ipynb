{
 "cells": [
  {
   "cell_type": "code",
   "execution_count": 2,
   "metadata": {
    "scrolled": true
   },
   "outputs": [
    {
     "data": {
      "text/html": [
       "<div>\n",
       "<style scoped>\n",
       "    .dataframe tbody tr th:only-of-type {\n",
       "        vertical-align: middle;\n",
       "    }\n",
       "\n",
       "    .dataframe tbody tr th {\n",
       "        vertical-align: top;\n",
       "    }\n",
       "\n",
       "    .dataframe thead th {\n",
       "        text-align: right;\n",
       "    }\n",
       "</style>\n",
       "<table border=\"1\" class=\"dataframe\">\n",
       "  <thead>\n",
       "    <tr style=\"text-align: right;\">\n",
       "      <th></th>\n",
       "      <th>id</th>\n",
       "      <th>url</th>\n",
       "      <th>landmark_id</th>\n",
       "    </tr>\n",
       "  </thead>\n",
       "  <tbody>\n",
       "    <tr>\n",
       "      <th>0</th>\n",
       "      <td>97c0a12e07ae8dd5</td>\n",
       "      <td>http://lh4.ggpht.com/-f8xYA5l4apw/RSziSQVaABI/...</td>\n",
       "      <td>6347</td>\n",
       "    </tr>\n",
       "    <tr>\n",
       "      <th>1</th>\n",
       "      <td>650c989dd3493748</td>\n",
       "      <td>https://lh5.googleusercontent.com/-PUnMrX7oOyA...</td>\n",
       "      <td>12519</td>\n",
       "    </tr>\n",
       "    <tr>\n",
       "      <th>2</th>\n",
       "      <td>05e63ca9b2cde1f4</td>\n",
       "      <td>http://mw2.google.com/mw-panoramio/photos/medi...</td>\n",
       "      <td>264</td>\n",
       "    </tr>\n",
       "    <tr>\n",
       "      <th>3</th>\n",
       "      <td>08672eddcb2b7c93</td>\n",
       "      <td>http://lh3.ggpht.com/-9fgSxDYwhHA/SMvGEoltKTI/...</td>\n",
       "      <td>13287</td>\n",
       "    </tr>\n",
       "    <tr>\n",
       "      <th>4</th>\n",
       "      <td>fc49cb32ef7f1e89</td>\n",
       "      <td>http://lh6.ggpht.com/-UGAXxvPbr98/S-jGZbyMIPI/...</td>\n",
       "      <td>4018</td>\n",
       "    </tr>\n",
       "  </tbody>\n",
       "</table>\n",
       "</div>"
      ],
      "text/plain": [
       "                 id                                                url  \\\n",
       "0  97c0a12e07ae8dd5  http://lh4.ggpht.com/-f8xYA5l4apw/RSziSQVaABI/...   \n",
       "1  650c989dd3493748  https://lh5.googleusercontent.com/-PUnMrX7oOyA...   \n",
       "2  05e63ca9b2cde1f4  http://mw2.google.com/mw-panoramio/photos/medi...   \n",
       "3  08672eddcb2b7c93  http://lh3.ggpht.com/-9fgSxDYwhHA/SMvGEoltKTI/...   \n",
       "4  fc49cb32ef7f1e89  http://lh6.ggpht.com/-UGAXxvPbr98/S-jGZbyMIPI/...   \n",
       "\n",
       "  landmark_id  \n",
       "0        6347  \n",
       "1       12519  \n",
       "2         264  \n",
       "3       13287  \n",
       "4        4018  "
      ]
     },
     "execution_count": 2,
     "metadata": {},
     "output_type": "execute_result"
    }
   ],
   "source": [
    "import numpy as np \n",
    "import pandas as pd \n",
    "import sys, requests, shutil, os\n",
    "data=pd.read_csv(\"C:\\\\Users\\\\GV62\\\\Downloads\\\\train.csv\")\n",
    "test_data = pd.read_csv(\"C:\\\\Users\\\\GV62\\\\Downloads\\\\test.csv\")\n",
    "data.head(5)\n"
   ]
  },
  {
   "cell_type": "code",
   "execution_count": 7,
   "metadata": {},
   "outputs": [
    {
     "data": {
      "text/html": [
       "<div>\n",
       "<style scoped>\n",
       "    .dataframe tbody tr th:only-of-type {\n",
       "        vertical-align: middle;\n",
       "    }\n",
       "\n",
       "    .dataframe tbody tr th {\n",
       "        vertical-align: top;\n",
       "    }\n",
       "\n",
       "    .dataframe thead th {\n",
       "        text-align: right;\n",
       "    }\n",
       "</style>\n",
       "<table border=\"1\" class=\"dataframe\">\n",
       "  <thead>\n",
       "    <tr style=\"text-align: right;\">\n",
       "      <th></th>\n",
       "      <th>id</th>\n",
       "      <th>url</th>\n",
       "    </tr>\n",
       "  </thead>\n",
       "  <tbody>\n",
       "    <tr>\n",
       "      <th>0</th>\n",
       "      <td>cb9998b8cdaf6235</td>\n",
       "      <td>https://lh3.googleusercontent.com/-q8B91vDIQZY...</td>\n",
       "    </tr>\n",
       "    <tr>\n",
       "      <th>1</th>\n",
       "      <td>30728cf6e50a6bc6</td>\n",
       "      <td>https://lh3.googleusercontent.com/-91gJSKTgv5Q...</td>\n",
       "    </tr>\n",
       "    <tr>\n",
       "      <th>2</th>\n",
       "      <td>16afbc86b710337d</td>\n",
       "      <td>https://lh3.googleusercontent.com/-GHZdXuf2wMg...</td>\n",
       "    </tr>\n",
       "    <tr>\n",
       "      <th>3</th>\n",
       "      <td>d29b2166cf522450</td>\n",
       "      <td>https://lh3.googleusercontent.com/-cWDnYNQhyws...</td>\n",
       "    </tr>\n",
       "    <tr>\n",
       "      <th>4</th>\n",
       "      <td>dd5c03b20c21cfba</td>\n",
       "      <td>https://lh3.googleusercontent.com/-PSLN6BloM-k...</td>\n",
       "    </tr>\n",
       "  </tbody>\n",
       "</table>\n",
       "</div>"
      ],
      "text/plain": [
       "                 id                                                url\n",
       "0  cb9998b8cdaf6235  https://lh3.googleusercontent.com/-q8B91vDIQZY...\n",
       "1  30728cf6e50a6bc6  https://lh3.googleusercontent.com/-91gJSKTgv5Q...\n",
       "2  16afbc86b710337d  https://lh3.googleusercontent.com/-GHZdXuf2wMg...\n",
       "3  d29b2166cf522450  https://lh3.googleusercontent.com/-cWDnYNQhyws...\n",
       "4  dd5c03b20c21cfba  https://lh3.googleusercontent.com/-PSLN6BloM-k..."
      ]
     },
     "execution_count": 7,
     "metadata": {},
     "output_type": "execute_result"
    }
   ],
   "source": [
    "test_data.head(5)"
   ]
  },
  {
   "cell_type": "markdown",
   "metadata": {},
   "source": [
    "# Sample the data"
   ]
  },
  {
   "cell_type": "code",
   "execution_count": 11,
   "metadata": {},
   "outputs": [
    {
     "data": {
      "text/html": [
       "<div>\n",
       "<style scoped>\n",
       "    .dataframe tbody tr th:only-of-type {\n",
       "        vertical-align: middle;\n",
       "    }\n",
       "\n",
       "    .dataframe tbody tr th {\n",
       "        vertical-align: top;\n",
       "    }\n",
       "\n",
       "    .dataframe thead th {\n",
       "        text-align: right;\n",
       "    }\n",
       "</style>\n",
       "<table border=\"1\" class=\"dataframe\">\n",
       "  <thead>\n",
       "    <tr style=\"text-align: right;\">\n",
       "      <th></th>\n",
       "      <th>id</th>\n",
       "      <th>url</th>\n",
       "      <th>landmark_id</th>\n",
       "    </tr>\n",
       "  </thead>\n",
       "  <tbody>\n",
       "    <tr>\n",
       "      <th>27</th>\n",
       "      <td>59be77be1d452a4f</td>\n",
       "      <td>https://lh5.googleusercontent.com/--Q3SMs25zX8...</td>\n",
       "      <td>1472</td>\n",
       "    </tr>\n",
       "    <tr>\n",
       "      <th>30</th>\n",
       "      <td>8d366770a87778b8</td>\n",
       "      <td>http://lh5.ggpht.com/-Kbr17owtR3Q/SYtzNSaYiRI/...</td>\n",
       "      <td>2157</td>\n",
       "    </tr>\n",
       "    <tr>\n",
       "      <th>34</th>\n",
       "      <td>fdbac32ad9bbf6e5</td>\n",
       "      <td>https://lh4.googleusercontent.com/-r_X8PoYuZGs...</td>\n",
       "      <td>2449</td>\n",
       "    </tr>\n",
       "    <tr>\n",
       "      <th>44</th>\n",
       "      <td>823d46dc9a83ac71</td>\n",
       "      <td>http://lh5.ggpht.com/-ACjGX7p_wEU/RqDzUZFvNVI/...</td>\n",
       "      <td>1168</td>\n",
       "    </tr>\n",
       "    <tr>\n",
       "      <th>45</th>\n",
       "      <td>06a2c21c0e283d3e</td>\n",
       "      <td>https://lh3.googleusercontent.com/-3j3UkLr6_kI...</td>\n",
       "      <td>1287</td>\n",
       "    </tr>\n",
       "  </tbody>\n",
       "</table>\n",
       "</div>"
      ],
      "text/plain": [
       "                  id                                                url  \\\n",
       "27  59be77be1d452a4f  https://lh5.googleusercontent.com/--Q3SMs25zX8...   \n",
       "30  8d366770a87778b8  http://lh5.ggpht.com/-Kbr17owtR3Q/SYtzNSaYiRI/...   \n",
       "34  fdbac32ad9bbf6e5  https://lh4.googleusercontent.com/-r_X8PoYuZGs...   \n",
       "44  823d46dc9a83ac71  http://lh5.ggpht.com/-ACjGX7p_wEU/RqDzUZFvNVI/...   \n",
       "45  06a2c21c0e283d3e  https://lh3.googleusercontent.com/-3j3UkLr6_kI...   \n",
       "\n",
       "   landmark_id  \n",
       "27        1472  \n",
       "30        2157  \n",
       "34        2449  \n",
       "44        1168  \n",
       "45        1287  "
      ]
     },
     "execution_count": 11,
     "metadata": {},
     "output_type": "execute_result"
    }
   ],
   "source": [
    "landmark_list = [str(x) for x in list(range(1000,3000))]\n",
    "data_sample = data[data['landmark_id'].isin(landmark_list)]#Make a data sample that contains all tuples that have landmark_id b/w 1000 and 3000\n",
    "data_sample.head()"
   ]
  },
  {
   "cell_type": "code",
   "execution_count": 13,
   "metadata": {},
   "outputs": [
    {
     "data": {
      "image/png": "[encoded data removed]",
      "text/plain": [
       "<Figure size 1080x360 with 2 Axes>"
      ]
     },
     "metadata": {
      "needs_background": "light"
     },
     "output_type": "display_data"
    }
   ],
   "source": [
    "#To Check data distribution i.e. making sure that the distribution of classes is equivalent to the original dataset\n",
    "import numpy as np\n",
    "import matplotlib.pyplot as plt\n",
    "%matplotlib inline\n",
    "from matplotlib.pyplot import subplots\n",
    "\n",
    "colors = np.array(['#4285f4','#34a853','#fbbc05','#ea4335'])\n",
    "#Define the order in which to display the graph\n",
    "order = ['1-5','5-10','10-50','50-100','100-200','200-500','>=500']\n",
    "f, (ax1, ax2) = plt.subplots(1, 2,figsize=(15,5))\n",
    "\n",
    "\n",
    "def plot_distribution(data_f, data_k, axis):\n",
    "    # data['landmark_id'].value_counts()\n",
    "    x=data_f.landmark_id.value_counts().index\n",
    "    y=pd.DataFrame(data_f.landmark_id.value_counts())\n",
    "\n",
    "    #Create a variable to group the number of image sin each class\n",
    "    y['Number of images'] = np.where(y['landmark_id']>=500,'>=500',y['landmark_id'])\n",
    "    y['Number of images'] = np.where((y['landmark_id']>=200) & (y['landmark_id']<500),'200-500',y['Number of images'])\n",
    "    y['Number of images'] = np.where((y['landmark_id']>=100) & (y['landmark_id']<200),'100-200',y['Number of images'])\n",
    "    y['Number of images'] = np.where((y['landmark_id']>=50) & (y['landmark_id']<100),'50-100',y['Number of images'])\n",
    "    y['Number of images'] = np.where((y['landmark_id']>=10) & (y['landmark_id']<50),'10-50',y['Number of images'])\n",
    "    y['Number of images'] = np.where((y['landmark_id']>=5) & (y['landmark_id']<10),'5-10',y['Number of images'])\n",
    "    y['Number of images'] = np.where((y['landmark_id']>=0) & (y['landmark_id']<5),'1-5',y['Number of images'])\n",
    "\n",
    "    y['Number of images'].value_counts().loc[order].plot(kind = 'bar',color = colors,width = 0.8, ax=axis)\n",
    "    axis.set_xlabel('Number of images')\n",
    "    axis.set_ylabel('Number of classes')\n",
    "    axis.set_title(data_k)\n",
    "plot_distribution(data, 'Original', ax1)\n",
    "plot_distribution(data_sample, 'Sample', ax2)"
   ]
  },
  {
   "cell_type": "code",
   "execution_count": 14,
   "metadata": {},
   "outputs": [
    {
     "name": "stdout",
     "output_type": "stream",
     "text": [
      "1. URLs overwritten\n",
      "2. train and test set created\n",
      "3. train and validation set created\n"
     ]
    }
   ],
   "source": [
    "#Ref: https://www.kaggle.com/lyakaap/fast-resized-image-download-python-3\n",
    "import re\n",
    "TARGET_SIZE = 96 #imports images of resolution 96x96\n",
    "\n",
    "'''change URLs to resize images to target size'''\n",
    "def overwrite_urls(df):\n",
    "    def reso_overwrite(url_tail, reso=TARGET_SIZE):\n",
    "        pattern = 's[0-9]+'\n",
    "        search_result = re.match(pattern, url_tail)\n",
    "        if search_result is None:\n",
    "            return url_tail\n",
    "        else:\n",
    "            return 's{}'.format(reso)\n",
    "    \n",
    "    def join_url(parsed_url, s_reso):\n",
    "        parsed_url[-2] = s_reso\n",
    "        return '/'.join(parsed_url)\n",
    "    \n",
    "    df = df[df.url.apply(lambda x: len(x.split('/'))>1)]\n",
    "    parsed_url = df.url.apply(lambda x: x.split('/'))\n",
    "    train_url_tail = parsed_url.apply(lambda x: x[-2])\n",
    "    resos = train_url_tail.apply(lambda x: reso_overwrite(x, reso=TARGET_SIZE))\n",
    "\n",
    "    overwritten_df = pd.concat([parsed_url, resos], axis=1)\n",
    "    overwritten_df.columns = ['url', 's_reso']\n",
    "    df['url'] = overwritten_df.apply(lambda x: join_url(x['url'], x['s_reso']), axis=1)\n",
    "    return df\n",
    "\n",
    "data_sample_resize = overwrite_urls(data_sample)\n",
    "print ('1. URLs overwritten')\n",
    "\n",
    "'''Split to test and train'''\n",
    "data_test = pd.DataFrame(columns = ['id','url','landmark_id'])\n",
    "data_training_all = pd.DataFrame(columns = ['id','url','landmark_id'])\n",
    "percent_test = 0.01 #takes 1% from each class as holdout\n",
    "import random\n",
    "random.seed(42)\n",
    "for landmark_id in set(data_sample_resize['landmark_id']):\n",
    "    n=1\n",
    "    t = data_sample_resize[(data_sample_resize.landmark_id == landmark_id)] #get all images for a landmark id\n",
    "    i = 0\n",
    "    r =[]\n",
    "    while i < len(t.id):\n",
    "        it = i\n",
    "        r.append(t.id.iloc[it])  #create a list of all these images\n",
    "        i += 1\n",
    "        \n",
    "    test = random.sample(r,int(percent_test*len(r))) #randomly pick a sample of 1% images from list 'r'\n",
    "    training = list(set(r) - set(test))  #get the remaining images\n",
    "    data_t = data_sample_resize[data_sample_resize.id.isin(test)] #holdout dataset\n",
    "    data_tr = data_sample_resize[data_sample_resize.id.isin(training)] #training dataset\n",
    "    data_test = data_test.append(data_t)  \n",
    "    data_training_all = data_training_all.append(data_tr)\n",
    "    n+=1\n",
    "\n",
    "print ('2. train and test set created')\n",
    "\n",
    "\n",
    "'''Split into train and validation set'''\n",
    "data_valid = pd.DataFrame(columns = ['id','url','landmark_id'])\n",
    "data_train = pd.DataFrame(columns = ['id','url','landmark_id'])\n",
    "percent_validation = 0.2 #takes 20% from each class as holdout data\n",
    "import random\n",
    "random.seed(42)\n",
    "for landmark_id in set(data_training_all['landmark_id']):\n",
    "    n=1\n",
    "    t = data_training_all[(data_training_all.landmark_id == landmark_id)]\n",
    "    i = 0\n",
    "    r =[]\n",
    "    while i < len(t.id):\n",
    "        it = i\n",
    "        r.append(t.id.iloc[it])\n",
    "        i += 1\n",
    "        \n",
    "    valid = random.sample(r,int(percent_validation*len(r)))\n",
    "    train = list(set(r) - set(valid)) \n",
    "    data_v = data_training_all[data_training_all.id.isin(valid)]\n",
    "    data_t = data_training_all[data_training_all.id.isin(train)]\n",
    "    data_valid = data_valid.append(data_v)\n",
    "    data_train = data_train.append(data_t)\n",
    "    n+=1\n",
    "\n",
    "print ('3. train and validation set created')"
   ]
  },
  {
   "cell_type": "code",
   "execution_count": 15,
   "metadata": {},
   "outputs": [
    {
     "name": "stdout",
     "output_type": "stream",
     "text": [
      "130515\n",
      "31642\n",
      "1183\n"
     ]
    }
   ],
   "source": [
    "print (len(data_train))\n",
    "print (len(data_valid))\n",
    "print (len(data_test))"
   ]
  },
  {
   "cell_type": "code",
   "execution_count": 30,
   "metadata": {},
   "outputs": [
    {
     "name": "stdout",
     "output_type": "stream",
     "text": [
      "4. train images fetched\n",
      "5. Validation images fetched\n",
      "6. Test images fetched\n"
     ]
    }
   ],
   "source": [
    "def fetch_image(path,folder):\n",
    "    url=path\n",
    "    response=requests.get(url, stream=True)\n",
    "    with open('D:\\\\CNNStuff\\\\Data\\\\' + folder + '\\\\image.jpg', 'wb') as out_file:\n",
    "        shutil.copyfileobj(response.raw, out_file)\n",
    "    del response\n",
    "    \n",
    "    \n",
    "'''TRAIN SET - fetch images for the resized URLs and save in the already created directory train_images_model'''\n",
    "i=0\n",
    "for link in data_train['url']:              #looping over links to get images\n",
    "    if os.path.exists('D:\\\\CNNStuff\\\\Data\\\\train_images_model'+str(data_train['id'].iloc[i])+'.jpg'):\n",
    "        i+=1\n",
    "        continue\n",
    "    fetch_image(link,'train_images_model')\n",
    "    os.rename('D:\\\\CNNStuff\\\\Data\\\\train_images_model\\\\image.jpg','D:\\\\CNNStuff\\\\Data\\\\train_images_model\\\\'+ str(data_train['id'].iloc[i])+ '.jpg')\n",
    "    i+=1\n",
    "    if(i==50):   #uncomment to test in your machine\n",
    "         break\n",
    "print('4. train images fetched')\n",
    "\n",
    "    \n",
    "i=0\n",
    "for link in data_valid['url']:              #looping over links to get images\n",
    "    if os.path.exists('D:\\\\CNNStuff\\\\Data\\\\validation_images_model'+str(data_valid['id'].iloc[i])+'.jpg'):\n",
    "        i+=1\n",
    "        continue\n",
    "    fetch_image(link,'validation_images_model')\n",
    "    os.rename('D:\\\\CNNStuff\\\\Data\\\\validation_images_model\\\\image.jpg','D:\\\\CNNStuff\\\\Data\\\\validation_images_model\\\\'+ str(data_valid['id'].iloc[i])+ '.jpg')\n",
    "    i+=1\n",
    "    if(i==50):   #uncomment to test in your machine\n",
    "         break\n",
    "print('5. Validation images fetched')\n",
    "i=0\n",
    "for link in data_test['url']:              #looping over links to get images\n",
    "    if os.path.exists('D:\\\\CNNStuff\\\\Data\\\\test_images_from_train\\\\'+str(data_test['id'].iloc[i])+'.jpg'):\n",
    "        i+=1\n",
    "        continue\n",
    "    fetch_image(link,'test_images_from_train')\n",
    "    os.rename('D:\\\\CNNStuff\\\\Data\\\\test_images_from_train\\\\image.jpg','D:\\\\CNNStuff\\\\Data\\\\test_images_from_train\\\\'+ str(data_test['id'].iloc[i])+ '.jpg')\n",
    "    i+=1\n",
    "    if(i==50):   #uncomment to test in your machine\n",
    "         break\n",
    "print('6. Test images fetched')"
   ]
  },
  {
   "cell_type": "code",
   "execution_count": 31,
   "metadata": {},
   "outputs": [
    {
     "name": "stdout",
     "output_type": "stream",
     "text": [
      "Train folders created\n",
      "Train images moved\n"
     ]
    }
   ],
   "source": [
    "##create folders for landmark IDs in Training folder\n",
    "import pandas as pd\n",
    "import os\n",
    "import shutil\n",
    "from shutil import copyfile\n",
    "import urllib\n",
    "\n",
    "train_data = data_train\n",
    "\n",
    "temp = pd.DataFrame(data_train.landmark_id.value_counts())\n",
    "temp.reset_index(inplace=True)\n",
    "temp.columns = ['landmark_id','count']\n",
    "\n",
    "def createfolders(dataset,folder):\n",
    "    i = 0\n",
    "    while i < len(dataset):\n",
    "        landmark = str(dataset.landmark_id.iloc[i])\n",
    "        path = 'D:\\\\CNNStuff\\\\Data\\\\' + folder + '\\\\'+ landmark\n",
    "        if not os.path.exists(path):\n",
    "            os.makedirs(path)\n",
    "        i+=1\n",
    "createfolders(temp,'train_images_model')\n",
    "print ('Train folders created')\n",
    "\n",
    "rootdirpics = r'D:\\\\CNNStuff\\\\Data\\\\train_images_model\\\\'\n",
    "rootdirfolders = r'D:\\\\CNNStuff\\\\Data\\\\train_images_model\\\\'\n",
    "def transformdata(data,path1, path2):\n",
    "\n",
    "    n = 1\n",
    "    for landmark_id in set(data['landmark_id']):\n",
    "        t = data[(data.landmark_id == landmark_id)]\n",
    "        i = 1\n",
    "        r =[]\n",
    "        while i <= len(t.id):\n",
    "            it = i - 1\n",
    "            r.append(t.id.iloc[it])\n",
    "            i += 1\n",
    "        for files in os.listdir(rootdirpics):    # loop through startfolders\n",
    "            inpath = path1 + files\n",
    "            folder = str(landmark_id)\n",
    "            outpath = path2 + folder  \n",
    "            if ((files.split('.')[0] in r) & (os.path.getsize(inpath) >1000)):\n",
    "#                 print('move')\n",
    "                shutil.move(inpath, outpath)\n",
    "            elif ((files.split('.')[0] in r) & (os.path.getsize(inpath) <= 1000)):\n",
    "                os.remove(inpath)\n",
    "        n+=1\n",
    "\n",
    "transformdata(train_data,rootdirpics, rootdirfolders)\n",
    "print ('Train images moved')"
   ]
  },
  {
   "cell_type": "code",
   "execution_count": 36,
   "metadata": {},
   "outputs": [
    {
     "name": "stdout",
     "output_type": "stream",
     "text": [
      "Validation folders created\n",
      "Validation images moved\n"
     ]
    }
   ],
   "source": [
    "##create folders for landmark IDs in Validation folder\n",
    "\n",
    "temp = pd.DataFrame(data_valid.landmark_id.value_counts())\n",
    "temp.reset_index(inplace=True)\n",
    "temp.columns = ['landmark_id','count']\n",
    "createfolders(temp,'validation_images_model')\n",
    "print ('Validation folders created')\n",
    "\n",
    "#make folders for landmark ID which had no images in validation sets - required for codes running next\n",
    "available = [int((x[0].split('\\\\'))[-1]) for x in os.walk(r'D:\\\\CNNStuff\\\\Data\\\\validation_images_model\\\\') if len((x[0].split('\\\\'))[-1]) > 0]\n",
    "new = [str(x) for x in range(1000,2999) if x not in available]\n",
    "for i in new:\n",
    "    path = 'D:\\\\CNNStuff\\\\Data\\\\validation_images_model\\\\' + i\n",
    "    if not os.path.exists(path):\n",
    "        os.makedirs(path)\n",
    "\n",
    "rootdirpics = r'D:\\\\CNNStuff\\\\Data\\\\validation_images_model\\\\'\n",
    "rootdirfolders = r'D:\\\\CNNStuff\\\\Data\\\\validation_images_model\\\\'\n",
    "transformdata(data_valid,rootdirpics, rootdirfolders)\n",
    "print ('Validation images moved')"
   ]
  },
  {
   "cell_type": "code",
   "execution_count": 3,
   "metadata": {},
   "outputs": [
    {
     "data": {
      "text/html": [
       "<img style='width: 200px; height:160px; margin: 0px; float: left; border: 1px solid black;' src='https://lh6.googleusercontent.com/-lLI_nZj5fuk/SMlZL0d1HDI/AAAAAAAACoI/MuwNasDcvdY/s1600/' /><img style='width: 200px; height:160px; margin: 0px; float: left; border: 1px solid black;' src='https://lh6.googleusercontent.com/-u3NHyRs_ZQ0/TZI0Fsh17sI/AAAAAAAABPo/s2ReXmJlWKk/s0-d/' /><img style='width: 200px; height:160px; margin: 0px; float: left; border: 1px solid black;' src='https://lh3.googleusercontent.com/-PDHSz6q_jA8/S8VZfMHVViI/AAAAAAAAFJQ/erPhCzr0HVs/s1600/' /><img style='width: 200px; height:160px; margin: 0px; float: left; border: 1px solid black;' src='http://lh3.ggpht.com/-m7cfAZ5SHWE/T1qmsjwKjoI/AAAAAAAAMHw/voDL6yWfO2E/s1600/' /><img style='width: 200px; height:160px; margin: 0px; float: left; border: 1px solid black;' src='http://mw2.google.com/mw-panoramio/photos/medium/55327783.jpg' /><img style='width: 200px; height:160px; margin: 0px; float: left; border: 1px solid black;' src='https://lh4.googleusercontent.com/-hs0-UIy-6MA/UdXA_oJkxNI/AAAAAAAAACQ/W_IkVRWtxZc/s150-c/' /><img style='width: 200px; height:160px; margin: 0px; float: left; border: 1px solid black;' src='http://lh3.ggpht.com/-aY2rmglPSsw/StjPc-MXq7I/AAAAAAAAD1Y/bK9IMJlMmLk/s1600/' /><img style='width: 200px; height:160px; margin: 0px; float: left; border: 1px solid black;' src='https://lh3.googleusercontent.com/-13A3Bx7tAPM/TAiZqDpe1DI/AAAAAAAALsI/apwlP8rh0hM/s1600/' /><img style='width: 200px; height:160px; margin: 0px; float: left; border: 1px solid black;' src='https://lh4.googleusercontent.com/-n1_5na3IMdQ/Rmp1PVqg0sI/AAAAAAAABD8/NYrkN6OabjQ/s1600/' /><img style='width: 200px; height:160px; margin: 0px; float: left; border: 1px solid black;' src='http://lh3.ggpht.com/-p00Kv62DnZ4/TExJplQkZaI/AAAAAAAAAHY/n_-YGy--6UY/s1600/' /><img style='width: 200px; height:160px; margin: 0px; float: left; border: 1px solid black;' src='https://lh5.googleusercontent.com/-4aosBudu3S0/TE89u_3yJKI/AAAAAAAAC-c/mTyhrqLfJJY/s1600/' /><img style='width: 200px; height:160px; margin: 0px; float: left; border: 1px solid black;' src='https://lh5.googleusercontent.com/-62o__FBc5KE/UTNsE0NeILI/AAAAAAAABN8/pNp72Kgri7s/s1600/' />"
      ],
      "text/plain": [
       "<IPython.core.display.HTML object>"
      ]
     },
     "metadata": {},
     "output_type": "display_data"
    }
   ],
   "source": [
    "from IPython.display import Image\n",
    "from IPython.core.display import HTML \n",
    "\n",
    "def displayLandmarkImagesLarge(urls, category_name):\n",
    "    img_style = \"width: 200px; height:160px; margin: 0px; float: left; border: 1px solid black;\"\n",
    "    images_list = ''.join([f\"<img style='{img_style}' src='{u}' />\" for _, u in urls.head(12).iteritems()])\n",
    "    display(HTML(images_list))\n",
    "\n",
    "category = data['landmark_id'].value_counts().keys()[15]\n",
    "urls = data[data['landmark_id'] == category]['url']\n",
    "displayLandmarkImagesLarge(urls, \"\")"
   ]
  },
  {
   "cell_type": "code",
   "execution_count": 4,
   "metadata": {},
   "outputs": [
    {
     "data": {
      "text/html": [
       "<img style='width: 200px; height:160px; margin: 0px; float: left; border: 1px solid black;' src='https://lh5.googleusercontent.com/-7AoJnw2esWw/S7ubehzXuuI/AAAAAAAAAXw/NKnaXkpx1wU/s1600/' /><img style='width: 200px; height:160px; margin: 0px; float: left; border: 1px solid black;' src='https://lh6.googleusercontent.com/-xAmqD_PLM28/RrAE2_jmP0I/AAAAAAAACCU/Vq7NPptikCU/s1600/' /><img style='width: 200px; height:160px; margin: 0px; float: left; border: 1px solid black;' src='https://lh6.googleusercontent.com/-QCDV0ENYxPI/SKfNbKY2CtI/AAAAAAAABxA/UIj8746bUTw/s0-d/' /><img style='width: 200px; height:160px; margin: 0px; float: left; border: 1px solid black;' src='https://lh3.googleusercontent.com/-oYFvHLf8HEQ/TWgcpFrOyiI/AAAAAAAAD0k/o5S4beoVNn0/rj/' /><img style='width: 200px; height:160px; margin: 0px; float: left; border: 1px solid black;' src='https://lh5.googleusercontent.com/-Q15GMLfJpdc/TlJ6IQYpJaI/AAAAAAAAGxM/jYbRZpAFaKA/s1600/' /><img style='width: 200px; height:160px; margin: 0px; float: left; border: 1px solid black;' src='http://lh3.ggpht.com/-zKaU4XvjeFE/R5XRfHXJxRI/AAAAAAAAECQ/fPg2QeEKgJA/s1600/' />"
      ],
      "text/plain": [
       "<IPython.core.display.HTML object>"
      ]
     },
     "metadata": {},
     "output_type": "display_data"
    },
    {
     "data": {
      "text/html": [
       "<img style='width: 200px; height:160px; margin: 0px; float: left; border: 1px solid black;' src='http://lh6.ggpht.com/-MbCfKSsUTLg/RjyNT-6K2OI/AAAAAAAAArk/bCJ_ohFb67M/s1600/' /><img style='width: 200px; height:160px; margin: 0px; float: left; border: 1px solid black;' src='http://lh3.ggpht.com/-IU1Valypm3w/SOaQ-Y_rZ2I/AAAAAAAAAKM/1yhFFFEtOns/s1600/' /><img style='width: 200px; height:160px; margin: 0px; float: left; border: 1px solid black;' src='https://lh6.googleusercontent.com/-v4yKkJvMfEs/TtjusdcsKmI/AAAAAAAAPfo/z3jKfLsmEoA/s1600/' /><img style='width: 200px; height:160px; margin: 0px; float: left; border: 1px solid black;' src='http://lh6.ggpht.com/-IvKcAX9IeQ8/Sb5f9Ur6FaI/AAAAAAAAE4w/pazI3srCO9w/rj/' /><img style='width: 200px; height:160px; margin: 0px; float: left; border: 1px solid black;' src='http://lh6.ggpht.com/-r1LjRS9oOvM/S5AP9aYUj7I/AAAAAAAACW4/9-zRL-rwY40/s1600/' /><img style='width: 200px; height:160px; margin: 0px; float: left; border: 1px solid black;' src='https://lh6.googleusercontent.com/-KmY65KLxSlk/TcUSPEMs44I/AAAAAAAAAwY/pjYvePK5Zlk/s1600/' />"
      ],
      "text/plain": [
       "<IPython.core.display.HTML object>"
      ]
     },
     "metadata": {},
     "output_type": "display_data"
    },
    {
     "data": {
      "text/html": [
       "<img style='width: 200px; height:160px; margin: 0px; float: left; border: 1px solid black;' src='https://lh3.googleusercontent.com/-eHd7qIJGI8Q/ScKDCfYviBI/AAAAAAAABMo/LdN8SeQKQzo/s1600/' /><img style='width: 200px; height:160px; margin: 0px; float: left; border: 1px solid black;' src='https://lh3.googleusercontent.com/-L3kzpgPaAeM/SsZ-XWiT83I/AAAAAAAAAeQ/5LSKrPjAw5A/s1600/' /><img style='width: 200px; height:160px; margin: 0px; float: left; border: 1px solid black;' src='https://lh4.googleusercontent.com/-EUIA_8bboTc/R1mWurFgDhI/AAAAAAAAA9s/T0R_Mu2lQpc/s1600/' /><img style='width: 200px; height:160px; margin: 0px; float: left; border: 1px solid black;' src='http://lh5.ggpht.com/-WTcb5nkz43s/TpCzhCD8xXI/AAAAAAAAEdk/Ug3CbrSqzOk/s1600/' /><img style='width: 200px; height:160px; margin: 0px; float: left; border: 1px solid black;' src='http://lh4.ggpht.com/-C5IN3KjL20g/UFip8bDClRI/AAAAAAAAAyk/Tfcrcx6B6tQ/s1600/' /><img style='width: 200px; height:160px; margin: 0px; float: left; border: 1px solid black;' src='https://lh4.googleusercontent.com/-yC6tyZDVb2k/RwBfJdWSmzI/AAAAAAAAAgI/DVMgd-BMzww/rj/' />"
      ],
      "text/plain": [
       "<IPython.core.display.HTML object>"
      ]
     },
     "metadata": {},
     "output_type": "display_data"
    },
    {
     "data": {
      "text/html": [
       "<img style='width: 200px; height:160px; margin: 0px; float: left; border: 1px solid black;' src='https://lh5.googleusercontent.com/-1PmqYO7TznA/TfGnXCUbXHI/AAAAAAAAP7o/_xW9W2oo9eA/s1600/' /><img style='width: 200px; height:160px; margin: 0px; float: left; border: 1px solid black;' src='http://lh6.ggpht.com/-ZLTnb6eJwEA/SQX5jIf0HGI/AAAAAAAAAwE/ztTiA63sWIc/s1600/' /><img style='width: 200px; height:160px; margin: 0px; float: left; border: 1px solid black;' src='http://lh4.ggpht.com/-VjscPN2ZZgg/TAlBB9BbkCI/AAAAAAAACLE/AuMUx_8c2QU/s1600/' /><img style='width: 200px; height:160px; margin: 0px; float: left; border: 1px solid black;' src='http://mw2.google.com/mw-panoramio/photos/small/77893207.jpg' /><img style='width: 200px; height:160px; margin: 0px; float: left; border: 1px solid black;' src='http://lh5.ggpht.com/-UNaz6g7yrts/SBhDGzqRzII/AAAAAAAADNc/dwusldo89GE/s1600/' /><img style='width: 200px; height:160px; margin: 0px; float: left; border: 1px solid black;' src='https://lh5.googleusercontent.com/-ASZiNH4CNXE/S1wnIqYmbtI/AAAAAAAAGZY/_oTA5eg1EbQ/s1600/' />"
      ],
      "text/plain": [
       "<IPython.core.display.HTML object>"
      ]
     },
     "metadata": {},
     "output_type": "display_data"
    }
   ],
   "source": [
    "# Visualize 6 images for each of the first 4 landmarks, ordered by the number of occurences.\n",
    "LANDMARK_NUMBER = 4\n",
    "IMAGES_NUMBER = 6\n",
    "landMarkIDs = pd.Series(data['landmark_id'].value_counts().keys())[0:LANDMARK_NUMBER]\n",
    "for landMarkID in landMarkIDs:\n",
    "    url = data[data['landmark_id'] == landMarkID]['url'].head(IMAGES_NUMBER)\n",
    "    displayLandmarkImagesLarge(url, \"\")"
   ]
  },
  {
   "cell_type": "code",
   "execution_count": 5,
   "metadata": {},
   "outputs": [
    {
     "data": {
      "text/plain": [
       "1    6051\n",
       "2    6599\n",
       "3    9779\n",
       "dtype: object"
      ]
     },
     "execution_count": 5,
     "metadata": {},
     "output_type": "execute_result"
    }
   ],
   "source": [
    "pd.Series(data['landmark_id'].value_counts().keys())[1:4]"
   ]
  },
  {
   "cell_type": "code",
   "execution_count": 10,
   "metadata": {},
   "outputs": [
    {
     "name": "stdout",
     "output_type": "stream",
     "text": [
      "Downloading data from https://s3.amazonaws.com/deep-learning-models/image-models/imagenet_class_index.json\n",
      "40960/35363 [==================================] - 0s 7us/step\n",
      "Predicted: [('n04486054', 'triumphal_arch', 0.1322437), ('n03781244', 'monastery', 0.0921237), ('n02825657', 'bell_cote', 0.082534045)]\n"
     ]
    }
   ],
   "source": [
    "from keras.applications.vgg16 import VGG16\n",
    "from keras.preprocessing import image\n",
    "from keras.applications.vgg16 import preprocess_input, decode_predictions\n",
    "import numpy as np\n",
    "\n",
    "model =VGG16(weights = 'imagenet', include_top = True)\n",
    "\n",
    "img_path = r'D:\\CNNStuff\\Data\\train_images_model\\2290\\a13d7302a957996f.jpg'\n",
    "img = image.load_img(img_path, target_size= (224,224))\n",
    "x = image.img_to_array(img)\n",
    "x = np.expand_dims(x, axis = 0)\n",
    "x = preprocess_input(x)\n",
    "\n",
    "preds = model.predict(x)\n",
    "print ('Predicted:', decode_predictions(preds, top = 3)[0])\n",
    "\n",
    "# 0a0667fc2436a04b = stupa (17%)\n",
    "# 0b48dd3b81d5b6ba = triumphal_arch(25%)"
   ]
  },
  {
   "cell_type": "code",
   "execution_count": null,
   "metadata": {},
   "outputs": [],
   "source": []
  }
 ],
 "metadata": {
  "kernelspec": {
   "display_name": "Python 3",
   "language": "python",
   "name": "python3"
  },
  "language_info": {
   "codemirror_mode": {
    "name": "ipython",
    "version": 3
   },
   "file_extension": ".py",
   "mimetype": "text/x-python",
   "name": "python",
   "nbconvert_exporter": "python",
   "pygments_lexer": "ipython3",
   "version": "3.6.8"
  }
 },
 "nbformat": 4,
 "nbformat_minor": 2
}
